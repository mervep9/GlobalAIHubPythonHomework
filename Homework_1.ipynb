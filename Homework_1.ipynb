{
  "nbformat": 4,
  "nbformat_minor": 0,
  "metadata": {
    "colab": {
      "name": "Homework-1.ipynb",
      "provenance": [],
      "collapsed_sections": []
    },
    "kernelspec": {
      "name": "python3",
      "display_name": "Python 3"
    }
  },
  "cells": [
    {
      "cell_type": "markdown",
      "metadata": {
        "id": "sHacUbDVjKLb"
      },
      "source": [
        "\r\n",
        "\r\n",
        "*   Take 5 values from the user and write a program that prints the values you get on the screen.\r\n",
        "\r\n",
        "*  Print to type of values you received in this program on the screen.\r\n",
        "*   When using print functions, do not forget to use f-string and format usage in your programs.\r\n",
        "\r\n",
        "\r\n"
      ]
    },
    {
      "cell_type": "code",
      "metadata": {
        "colab": {
          "base_uri": "https://localhost:8080/"
        },
        "id": "FEw4Ghtde9BA",
        "outputId": "64d4d9c7-1987-44d7-d5c3-fefa115b92a5"
      },
      "source": [
        "from google.colab import drive\r\n",
        "drive.mount('/content/drive')"
      ],
      "execution_count": 1,
      "outputs": [
        {
          "output_type": "stream",
          "text": [
            "Drive already mounted at /content/drive; to attempt to forcibly remount, call drive.mount(\"/content/drive\", force_remount=True).\n"
          ],
          "name": "stdout"
        }
      ]
    },
    {
      "cell_type": "code",
      "metadata": {
        "id": "Kgp6Tk40feSU"
      },
      "source": [
        "value_0='Merve'\r\n",
        "value_1='Polat'\r\n",
        "value_2=2.7\r\n",
        "value_3=9\r\n",
        "value_4=22"
      ],
      "execution_count": 2,
      "outputs": []
    },
    {
      "cell_type": "code",
      "metadata": {
        "colab": {
          "base_uri": "https://localhost:8080/"
        },
        "id": "351M1Jw2jHKi",
        "outputId": "cc4268bb-7b40-4c17-83c3-d55a23253cb4"
      },
      "source": [
        "print(value_0,value_1,value_2,value_3,value_4)"
      ],
      "execution_count": 3,
      "outputs": [
        {
          "output_type": "stream",
          "text": [
            "Merve Polat 2.7 9 22\n"
          ],
          "name": "stdout"
        }
      ]
    },
    {
      "cell_type": "code",
      "metadata": {
        "colab": {
          "base_uri": "https://localhost:8080/"
        },
        "id": "jOk5zre9neR7",
        "outputId": "70d67d21-7d38-4800-ada8-62fe15685f12"
      },
      "source": [
        "print(value_0)\r\n",
        "print(value_1)\r\n",
        "print(value_2)\r\n",
        "print(value_3)\r\n",
        "print(value_4)"
      ],
      "execution_count": 4,
      "outputs": [
        {
          "output_type": "stream",
          "text": [
            "Merve\n",
            "Polat\n",
            "2.7\n",
            "9\n",
            "22\n"
          ],
          "name": "stdout"
        }
      ]
    },
    {
      "cell_type": "code",
      "metadata": {
        "colab": {
          "base_uri": "https://localhost:8080/"
        },
        "id": "gDxmrV_BpHis",
        "outputId": "1b39fe71-cec8-4912-b6e8-d825a9b64344"
      },
      "source": [
        "print(type(value_0))"
      ],
      "execution_count": 5,
      "outputs": [
        {
          "output_type": "stream",
          "text": [
            "<class 'str'>\n"
          ],
          "name": "stdout"
        }
      ]
    },
    {
      "cell_type": "code",
      "metadata": {
        "colab": {
          "base_uri": "https://localhost:8080/"
        },
        "id": "-O3BWIm4pOrY",
        "outputId": "c953779a-be2a-4037-f12e-126f826d2163"
      },
      "source": [
        "type(value_1)"
      ],
      "execution_count": 6,
      "outputs": [
        {
          "output_type": "execute_result",
          "data": {
            "text/plain": [
              "str"
            ]
          },
          "metadata": {
            "tags": []
          },
          "execution_count": 6
        }
      ]
    },
    {
      "cell_type": "code",
      "metadata": {
        "colab": {
          "base_uri": "https://localhost:8080/"
        },
        "id": "CD8cokwMpRm_",
        "outputId": "691091fa-6f29-46b0-8e14-06b08ee91695"
      },
      "source": [
        "print(type(value_2))"
      ],
      "execution_count": 7,
      "outputs": [
        {
          "output_type": "stream",
          "text": [
            "<class 'float'>\n"
          ],
          "name": "stdout"
        }
      ]
    },
    {
      "cell_type": "code",
      "metadata": {
        "colab": {
          "base_uri": "https://localhost:8080/"
        },
        "id": "yUksTevDpUTr",
        "outputId": "e98f0258-1228-4e86-9a71-72b8c7a12602"
      },
      "source": [
        "print(type(value_3))"
      ],
      "execution_count": 8,
      "outputs": [
        {
          "output_type": "stream",
          "text": [
            "<class 'int'>\n"
          ],
          "name": "stdout"
        }
      ]
    },
    {
      "cell_type": "code",
      "metadata": {
        "colab": {
          "base_uri": "https://localhost:8080/"
        },
        "id": "P0TZOsZ4pWsL",
        "outputId": "dabab9a1-68da-44cf-cba5-280936171505"
      },
      "source": [
        "type(value_4)"
      ],
      "execution_count": 9,
      "outputs": [
        {
          "output_type": "execute_result",
          "data": {
            "text/plain": [
              "int"
            ]
          },
          "metadata": {
            "tags": []
          },
          "execution_count": 9
        }
      ]
    },
    {
      "cell_type": "code",
      "metadata": {
        "colab": {
          "base_uri": "https://localhost:8080/"
        },
        "id": "PgG6jyMhnrJr",
        "outputId": "f36155bc-fb25-40eb-f0db-32e4f7842345"
      },
      "source": [
        "print(\"My name : {} and Surname : {}\".format(value_0, value_1))"
      ],
      "execution_count": 10,
      "outputs": [
        {
          "output_type": "stream",
          "text": [
            "My name : Merve and Surname : Polat\n"
          ],
          "name": "stdout"
        }
      ]
    },
    {
      "cell_type": "code",
      "metadata": {
        "colab": {
          "base_uri": "https://localhost:8080/"
        },
        "id": "UiVFG60wojFR",
        "outputId": "ef736640-1885-4f98-efe8-8a28be20ea5d"
      },
      "source": [
        "print(f'My first value: {value_2} , second value: {value_3}')"
      ],
      "execution_count": 11,
      "outputs": [
        {
          "output_type": "stream",
          "text": [
            "My first value: 2.7 , second value: 9\n"
          ],
          "name": "stdout"
        }
      ]
    },
    {
      "cell_type": "code",
      "metadata": {
        "colab": {
          "base_uri": "https://localhost:8080/"
        },
        "id": "gcYZj0oyozyP",
        "outputId": "bfccb9dc-6596-4a6f-f938-86531723f142"
      },
      "source": [
        "\r\n",
        "print(\"My value: \" + str(value_4))"
      ],
      "execution_count": 12,
      "outputs": [
        {
          "output_type": "stream",
          "text": [
            "My value: 22\n"
          ],
          "name": "stdout"
        }
      ]
    }
  ]
}