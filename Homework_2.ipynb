{
  "nbformat": 4,
  "nbformat_minor": 0,
  "metadata": {
    "colab": {
      "name": "Homework-2.ipynb",
      "provenance": [],
      "collapsed_sections": []
    },
    "kernelspec": {
      "name": "python3",
      "display_name": "Python 3"
    }
  },
  "cells": [
    {
      "cell_type": "markdown",
      "metadata": {
        "id": "ITgPv-J0dvwy"
      },
      "source": [
        "\r\n",
        "The user will be defined.Get the data of this user by input method.Obtain information from user as follow:\r\n",
        "\r\n",
        "*  First Name\r\n",
        "*  Last Name\r\n",
        "*  Age\r\n",
        "*  Date of birth (just year)\r\n",
        "\r\n",
        "Pass the user's information to the list and displays the screen using the for loop.Print all user information on the screen.\r\n",
        "\r\n",
        "If he is under 18, print \"You can't go out because it's too dangerous\" on the screen.\r\n",
        "\r\n",
        "If he is over 18, print \"You can go out to the street\" on the screen.\r\n",
        "\r\n"
      ]
    },
    {
      "cell_type": "code",
      "metadata": {
        "colab": {
          "base_uri": "https://localhost:8080/"
        },
        "id": "LzGRBd_cUYYr",
        "outputId": "e829d3df-f698-4237-c2c1-276b9686af9a"
      },
      "source": [
        "First_Name=input(\"Please you enter Your First Name: \")\r\n",
        "Last_Name=input(\"Please you enter Your Last Name: \")\r\n",
        "Age=int(input(\"Please you enter Your Age: \"))\r\n",
        "Date_of_birth=int(input(\"Please you enter Date of birth (just year): \"))"
      ],
      "execution_count": 1,
      "outputs": [
        {
          "output_type": "stream",
          "text": [
            "Please you enter Your First Name: Merve\n",
            "Please you enter Your Last Name: Polat\n",
            "Please you enter Your Age: 27\n",
            "Please you enter Date of birth (just year): 1993\n"
          ],
          "name": "stdout"
        }
      ]
    },
    {
      "cell_type": "code",
      "metadata": {
        "colab": {
          "base_uri": "https://localhost:8080/"
        },
        "id": "6MTXp8S5pYkS",
        "outputId": "12da260b-9a32-45c8-aa7e-22bc1afc4953"
      },
      "source": [
        "All_information_list=[First_Name,Last_Name,Age,Date_of_birth]\r\n",
        "All_information_list"
      ],
      "execution_count": 2,
      "outputs": [
        {
          "output_type": "execute_result",
          "data": {
            "text/plain": [
              "['Merve', 'Polat', 27, 1993]"
            ]
          },
          "metadata": {
            "tags": []
          },
          "execution_count": 2
        }
      ]
    },
    {
      "cell_type": "code",
      "metadata": {
        "colab": {
          "base_uri": "https://localhost:8080/"
        },
        "id": "tQJhcXnIpqoS",
        "outputId": "b3555c67-656e-4355-cb96-b0fbb4680e56"
      },
      "source": [
        "All_information_list=list([First_Name,Last_Name,Age,Date_of_birth])\r\n",
        "All_information_list\r\n"
      ],
      "execution_count": 3,
      "outputs": [
        {
          "output_type": "execute_result",
          "data": {
            "text/plain": [
              "['Merve', 'Polat', 27, 1993]"
            ]
          },
          "metadata": {
            "tags": []
          },
          "execution_count": 3
        }
      ]
    },
    {
      "cell_type": "code",
      "metadata": {
        "colab": {
          "base_uri": "https://localhost:8080/"
        },
        "id": "mLAKXcPDsFrC",
        "outputId": "1ca37b6d-00e1-4bb9-cbb6-3b2bca124d54"
      },
      "source": [
        "for m in range(4):\r\n",
        "  print(\"m: {}\".format(All_information_list[m]))\r\n",
        "  if (Age<18):\r\n",
        "    print(\"You can't go out because it's too dangerous\")\r\n",
        "  else:\r\n",
        "    print(\"You can go out to the street\")"
      ],
      "execution_count": 4,
      "outputs": [
        {
          "output_type": "stream",
          "text": [
            "m: Merve\n",
            "You can go out to the street\n",
            "m: Polat\n",
            "You can go out to the street\n",
            "m: 27\n",
            "You can go out to the street\n",
            "m: 1993\n",
            "You can go out to the street\n"
          ],
          "name": "stdout"
        }
      ]
    }
  ]
}