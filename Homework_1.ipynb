{
  "nbformat": 4,
  "nbformat_minor": 0,
  "metadata": {
    "colab": {
      "name": "Homework-1.ipynb",
      "provenance": [],
      "collapsed_sections": []
    },
    "kernelspec": {
      "name": "python3",
      "display_name": "Python 3"
    }
  },
  "cells": [
    {
      "cell_type": "markdown",
      "metadata": {
        "id": "sHacUbDVjKLb"
      },
      "source": [
        "\r\n",
        "\r\n",
        "*   Take 5 values from the user and write a program that prints the values you get on the screen.\r\n",
        "\r\n",
        "*  Print to type of values you received in this program on the screen.\r\n",
        "*   When using print functions, do not forget to use f-string and format usage in your programs.\r\n",
        "\r\n",
        "\r\n"
      ]
    },
    {
      "cell_type": "code",
      "metadata": {
        "colab": {
          "base_uri": "https://localhost:8080/"
        },
        "id": "FEw4Ghtde9BA",
        "outputId": "2284e471-890c-4e77-c336-1cc0bc17654e"
      },
      "source": [
        "from google.colab import drive\r\n",
        "drive.mount('/content/drive')"
      ],
      "execution_count": 1,
      "outputs": [
        {
          "output_type": "stream",
          "text": [
            "Drive already mounted at /content/drive; to attempt to forcibly remount, call drive.mount(\"/content/drive\", force_remount=True).\n"
          ],
          "name": "stdout"
        }
      ]
    },
    {
      "cell_type": "code",
      "metadata": {
        "colab": {
          "base_uri": "https://localhost:8080/"
        },
        "id": "5q5dk1oGUqHE",
        "outputId": "265791e3-1247-4d80-ae84-4c5a2dc435b7"
      },
      "source": [
        "value=input(\"please enter a value: \")"
      ],
      "execution_count": 2,
      "outputs": [
        {
          "output_type": "stream",
          "text": [
            "please enter a value: merve\n"
          ],
          "name": "stdout"
        }
      ]
    },
    {
      "cell_type": "code",
      "metadata": {
        "colab": {
          "base_uri": "https://localhost:8080/"
        },
        "id": "UFBRulLUVHwU",
        "outputId": "21ca6fcc-af0b-4c1b-892c-ead4a2343cc4"
      },
      "source": [
        "type(value)"
      ],
      "execution_count": 3,
      "outputs": [
        {
          "output_type": "execute_result",
          "data": {
            "text/plain": [
              "str"
            ]
          },
          "metadata": {
            "tags": []
          },
          "execution_count": 3
        }
      ]
    },
    {
      "cell_type": "code",
      "metadata": {
        "colab": {
          "base_uri": "https://localhost:8080/"
        },
        "id": "1g1C6K9tVNHw",
        "outputId": "bbb58efe-1149-4c80-a35c-a740b685dab5"
      },
      "source": [
        "value_=int(input(\"please enter a value: \"))"
      ],
      "execution_count": 4,
      "outputs": [
        {
          "output_type": "stream",
          "text": [
            "please enter a value: 45\n"
          ],
          "name": "stdout"
        }
      ]
    },
    {
      "cell_type": "code",
      "metadata": {
        "colab": {
          "base_uri": "https://localhost:8080/"
        },
        "id": "SB9VPJJTVYFg",
        "outputId": "52fbc49f-84f2-4175-a394-45a407bd013b"
      },
      "source": [
        "print(type(value_))"
      ],
      "execution_count": 5,
      "outputs": [
        {
          "output_type": "stream",
          "text": [
            "<class 'int'>\n"
          ],
          "name": "stdout"
        }
      ]
    },
    {
      "cell_type": "code",
      "metadata": {
        "id": "Kgp6Tk40feSU"
      },
      "source": [
        "value_0='Merve'\r\n",
        "value_1='Polat'\r\n",
        "value_2=2.7\r\n",
        "value_3=9\r\n",
        "value_4=22"
      ],
      "execution_count": 6,
      "outputs": []
    },
    {
      "cell_type": "code",
      "metadata": {
        "colab": {
          "base_uri": "https://localhost:8080/"
        },
        "id": "351M1Jw2jHKi",
        "outputId": "e7468718-f2e7-45cd-b0c8-18216af46927"
      },
      "source": [
        "print(value_0,value_1,value_2,value_3,value_4)"
      ],
      "execution_count": 7,
      "outputs": [
        {
          "output_type": "stream",
          "text": [
            "Merve Polat 2.7 9 22\n"
          ],
          "name": "stdout"
        }
      ]
    },
    {
      "cell_type": "code",
      "metadata": {
        "colab": {
          "base_uri": "https://localhost:8080/"
        },
        "id": "jOk5zre9neR7",
        "outputId": "add63a1a-8b8d-47aa-b828-823365835b27"
      },
      "source": [
        "print(value_0)\r\n",
        "print(value_1)\r\n",
        "print(value_2)\r\n",
        "print(value_3)\r\n",
        "print(value_4)"
      ],
      "execution_count": 8,
      "outputs": [
        {
          "output_type": "stream",
          "text": [
            "Merve\n",
            "Polat\n",
            "2.7\n",
            "9\n",
            "22\n"
          ],
          "name": "stdout"
        }
      ]
    },
    {
      "cell_type": "code",
      "metadata": {
        "colab": {
          "base_uri": "https://localhost:8080/"
        },
        "id": "gDxmrV_BpHis",
        "outputId": "b45294fa-8f5e-43a5-d4a6-9cbc09b6c604"
      },
      "source": [
        "print(type(value_0))"
      ],
      "execution_count": 9,
      "outputs": [
        {
          "output_type": "stream",
          "text": [
            "<class 'str'>\n"
          ],
          "name": "stdout"
        }
      ]
    },
    {
      "cell_type": "code",
      "metadata": {
        "colab": {
          "base_uri": "https://localhost:8080/"
        },
        "id": "-O3BWIm4pOrY",
        "outputId": "3e8a1208-e1c0-4a31-84e3-ece26b218a91"
      },
      "source": [
        "type(value_1)"
      ],
      "execution_count": 10,
      "outputs": [
        {
          "output_type": "execute_result",
          "data": {
            "text/plain": [
              "str"
            ]
          },
          "metadata": {
            "tags": []
          },
          "execution_count": 10
        }
      ]
    },
    {
      "cell_type": "code",
      "metadata": {
        "colab": {
          "base_uri": "https://localhost:8080/"
        },
        "id": "CD8cokwMpRm_",
        "outputId": "b21557d4-54af-494b-e49f-86fb9be76982"
      },
      "source": [
        "print(type(value_2))"
      ],
      "execution_count": 11,
      "outputs": [
        {
          "output_type": "stream",
          "text": [
            "<class 'float'>\n"
          ],
          "name": "stdout"
        }
      ]
    },
    {
      "cell_type": "code",
      "metadata": {
        "colab": {
          "base_uri": "https://localhost:8080/"
        },
        "id": "yUksTevDpUTr",
        "outputId": "db5db1b0-a494-4bfc-fee6-37e227d8ce5d"
      },
      "source": [
        "print(type(value_3))"
      ],
      "execution_count": 12,
      "outputs": [
        {
          "output_type": "stream",
          "text": [
            "<class 'int'>\n"
          ],
          "name": "stdout"
        }
      ]
    },
    {
      "cell_type": "code",
      "metadata": {
        "colab": {
          "base_uri": "https://localhost:8080/"
        },
        "id": "P0TZOsZ4pWsL",
        "outputId": "b84bcf38-747b-42d4-86d7-c935cfd37c2a"
      },
      "source": [
        "type(value_4)"
      ],
      "execution_count": 13,
      "outputs": [
        {
          "output_type": "execute_result",
          "data": {
            "text/plain": [
              "int"
            ]
          },
          "metadata": {
            "tags": []
          },
          "execution_count": 13
        }
      ]
    },
    {
      "cell_type": "code",
      "metadata": {
        "colab": {
          "base_uri": "https://localhost:8080/"
        },
        "id": "PgG6jyMhnrJr",
        "outputId": "b7dd4cfa-b013-46d3-de67-db5f14ab9a09"
      },
      "source": [
        "print(\"My name : {} and Surname : {}\".format(value_0, value_1))"
      ],
      "execution_count": 14,
      "outputs": [
        {
          "output_type": "stream",
          "text": [
            "My name : Merve and Surname : Polat\n"
          ],
          "name": "stdout"
        }
      ]
    },
    {
      "cell_type": "code",
      "metadata": {
        "colab": {
          "base_uri": "https://localhost:8080/"
        },
        "id": "UiVFG60wojFR",
        "outputId": "6ffc15d6-831d-45aa-c75c-8110b39b53a8"
      },
      "source": [
        "print(f'My first value: {value_2} , second value: {value_3}')"
      ],
      "execution_count": 15,
      "outputs": [
        {
          "output_type": "stream",
          "text": [
            "My first value: 2.7 , second value: 9\n"
          ],
          "name": "stdout"
        }
      ]
    },
    {
      "cell_type": "code",
      "metadata": {
        "colab": {
          "base_uri": "https://localhost:8080/"
        },
        "id": "gcYZj0oyozyP",
        "outputId": "d90019d2-87d6-41a9-f49f-eb535ad0c580"
      },
      "source": [
        "\r\n",
        "print(\"My value: \" + str(value_4))"
      ],
      "execution_count": 16,
      "outputs": [
        {
          "output_type": "stream",
          "text": [
            "My value: 22\n"
          ],
          "name": "stdout"
        }
      ]
    }
  ]
}